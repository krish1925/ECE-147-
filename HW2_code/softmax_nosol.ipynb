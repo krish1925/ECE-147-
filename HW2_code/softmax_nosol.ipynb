{
 "cells": [
  {
   "cell_type": "markdown",
   "metadata": {},
   "source": [
    "## This is the softmax workbook for ECE C147/C247 Assignment #2\n",
    "\n",
    "Please follow the notebook linearly to implement a softmax classifier.\n",
    "\n",
    "Please print out the workbook entirely when completed.\n",
    "\n",
    "The goal of this workbook is to give you experience with training a softmax classifier."
   ]
  },
  {
   "cell_type": "code",
   "execution_count": 2,
   "metadata": {},
   "outputs": [
    {
     "name": "stdout",
     "output_type": "stream",
     "text": [
      "The autoreload extension is already loaded. To reload it, use:\n",
      "  %reload_ext autoreload\n"
     ]
    }
   ],
   "source": [
    "import random\n",
    "import numpy as np\n",
    "from utils.data_utils import load_CIFAR10\n",
    "import matplotlib.pyplot as plt\n",
    "\n",
    "%matplotlib inline\n",
    "%load_ext autoreload\n",
    "%autoreload 2\n",
    "\n",
    "\n"
   ]
  },
  {
   "cell_type": "code",
   "execution_count": null,
   "metadata": {},
   "outputs": [],
   "source": [
    "#Downloading the CIFAR-10 data\n",
    "import shutil\n",
    "import urllib.request\n",
    "urllib.request.urlretrieve(\n",
    "    \"http://www.cs.toronto.edu/~kriz/cifar-10-python.tar.gz\", \"utils/datasets/cifar-10-python.tar.gz\")\n",
    "\n",
    "#Unzipping the downloaded file\n",
    "shutil.unpack_archive(\n",
    "    \"utils/datasets/cifar-10-python.tar.gz\", \"utils/datasets/\")\n"
   ]
  },
  {
   "cell_type": "code",
   "execution_count": 4,
   "metadata": {
    "scrolled": true
   },
   "outputs": [
    {
     "name": "stdout",
     "output_type": "stream",
     "text": [
      "Train data shape:  (49000, 3073)\n",
      "Train labels shape:  (49000,)\n",
      "Validation data shape:  (1000, 3073)\n",
      "Validation labels shape:  (1000,)\n",
      "Test data shape:  (1000, 3073)\n",
      "Test labels shape:  (1000,)\n",
      "dev data shape:  (500, 3073)\n",
      "dev labels shape:  (500,)\n"
     ]
    }
   ],
   "source": [
    "def get_CIFAR10_data(num_training=49000, num_validation=1000, num_test=1000, num_dev=500):\n",
    "    \"\"\"\n",
    "    Load the CIFAR-10 dataset from disk and perform preprocessing to prepare\n",
    "    it for the linear classifier. These are the same steps as we used for the\n",
    "    SVM, but condensed to a single function.  \n",
    "    \"\"\"\n",
    "    # Load the raw CIFAR-10 data\n",
    "    cifar10_dir = 'utils/datasets/cifar-10-batches-py'  # You need to update this line\n",
    "    X_train, y_train, X_test, y_test = load_CIFAR10(cifar10_dir)\n",
    "    \n",
    "    # subsample the data\n",
    "    mask = list(range(num_training, num_training + num_validation))\n",
    "    X_val = X_train[mask]\n",
    "    y_val = y_train[mask]\n",
    "    mask = list(range(num_training))\n",
    "    X_train = X_train[mask]\n",
    "    y_train = y_train[mask]\n",
    "    mask = list(range(num_test))\n",
    "    X_test = X_test[mask]\n",
    "    y_test = y_test[mask]\n",
    "    mask = np.random.choice(num_training, num_dev, replace=False)\n",
    "    X_dev = X_train[mask]\n",
    "    y_dev = y_train[mask]\n",
    "    \n",
    "    # Preprocessing: reshape the image data into rows\n",
    "    X_train = np.reshape(X_train, (X_train.shape[0], -1))\n",
    "    X_val = np.reshape(X_val, (X_val.shape[0], -1))\n",
    "    X_test = np.reshape(X_test, (X_test.shape[0], -1))\n",
    "    X_dev = np.reshape(X_dev, (X_dev.shape[0], -1))\n",
    "    \n",
    "    # Normalize the data: subtract the mean image\n",
    "    mean_image = np.mean(X_train, axis = 0)\n",
    "    X_train -= mean_image\n",
    "    X_val -= mean_image\n",
    "    X_test -= mean_image\n",
    "    X_dev -= mean_image\n",
    "    \n",
    "    # add bias dimension and transform into columns\n",
    "    X_train = np.hstack([X_train, np.ones((X_train.shape[0], 1))])\n",
    "    X_val = np.hstack([X_val, np.ones((X_val.shape[0], 1))])\n",
    "    X_test = np.hstack([X_test, np.ones((X_test.shape[0], 1))])\n",
    "    X_dev = np.hstack([X_dev, np.ones((X_dev.shape[0], 1))])\n",
    "    \n",
    "    return X_train, y_train, X_val, y_val, X_test, y_test, X_dev, y_dev\n",
    "\n",
    "\n",
    "# Invoke the above function to get our data.\n",
    "X_train, y_train, X_val, y_val, X_test, y_test, X_dev, y_dev = get_CIFAR10_data()\n",
    "print('Train data shape: ', X_train.shape)\n",
    "print('Train labels shape: ', y_train.shape)\n",
    "print('Validation data shape: ', X_val.shape)\n",
    "print('Validation labels shape: ', y_val.shape)\n",
    "print('Test data shape: ', X_test.shape)\n",
    "print('Test labels shape: ', y_test.shape)\n",
    "print('dev data shape: ', X_dev.shape)\n",
    "print('dev labels shape: ', y_dev.shape)\n"
   ]
  },
  {
   "cell_type": "markdown",
   "metadata": {},
   "source": [
    "## Training a softmax classifier.\n",
    "\n",
    "The following cells will take you through building a softmax classifier.  You will implement its loss function, then subsequently train it with gradient descent.  Finally, you will choose the learning rate of gradient descent to optimize its classification performance."
   ]
  },
  {
   "cell_type": "code",
   "execution_count": 9,
   "metadata": {},
   "outputs": [],
   "source": [
    "from nndl import Softmax\n",
    "\n",
    "import subprocess\n",
    "\n",
    "# List of pip commands\n"
   ]
  },
  {
   "cell_type": "code",
   "execution_count": 10,
   "metadata": {},
   "outputs": [],
   "source": [
    "# Declare an instance of the Softmax class.  \n",
    "# Weights are initialized to a random value.\n",
    "# Note, to keep people's first solutions consistent, we are going to use a random seed.\n",
    "\n",
    "np.random.seed(1)\n",
    "\n",
    "num_classes = len(np.unique(y_train))\n",
    "num_features = X_train.shape[1]\n",
    "\n",
    "softmax = Softmax(dims=[num_classes, num_features])"
   ]
  },
  {
   "cell_type": "markdown",
   "metadata": {},
   "source": [
    "#### Softmax loss"
   ]
  },
  {
   "cell_type": "code",
   "execution_count": 11,
   "metadata": {},
   "outputs": [],
   "source": [
    "## Implement the loss function of the softmax using a for loop over\n",
    "#  the number of examples\n",
    "\n",
    "loss = softmax.loss(X_train, y_train)"
   ]
  },
  {
   "cell_type": "code",
   "execution_count": 8,
   "metadata": {},
   "outputs": [
    {
     "name": "stdout",
     "output_type": "stream",
     "text": [
      "2.3277607028048966\n"
     ]
    }
   ],
   "source": [
    "print(loss)"
   ]
  },
  {
   "cell_type": "markdown",
   "metadata": {},
   "source": [
    "## Question: \n",
    "\n",
    "You'll notice the loss returned by the softmax is about 2.3 (if implemented correctly).  Why does this make sense?"
   ]
  },
  {
   "cell_type": "markdown",
   "metadata": {},
   "source": [
    "## Answer:\n",
    "\n",
    "Intially, no training is done on the Softmax. Thus, as the weights are initalized to zero, the value of the loss according to the softmax is: -1/m *log((1/10)<sup>m</sup>) = log(10), which is close to 2.3"
   ]
  },
  {
   "cell_type": "markdown",
   "metadata": {},
   "source": [
    "#### Softmax gradient"
   ]
  },
  {
   "cell_type": "code",
   "execution_count": 12,
   "metadata": {
    "scrolled": false
   },
   "outputs": [
    {
     "name": "stdout",
     "output_type": "stream",
     "text": [
      "numerical: -0.659919 analytic: -0.659919, relative error: 4.811308e-08\n",
      "numerical: -0.887144 analytic: -0.887144, relative error: 1.872054e-08\n",
      "numerical: 0.593711 analytic: 0.593711, relative error: 1.212518e-08\n",
      "numerical: 2.179519 analytic: 2.179519, relative error: 3.471660e-10\n",
      "numerical: -0.557324 analytic: -0.557324, relative error: 1.079517e-07\n",
      "numerical: 1.998294 analytic: 1.998293, relative error: 1.228015e-08\n",
      "numerical: -0.522391 analytic: -0.522392, relative error: 1.038401e-07\n",
      "numerical: -1.286610 analytic: -1.286610, relative error: 2.583998e-09\n",
      "numerical: 0.518052 analytic: 0.518052, relative error: 9.485669e-09\n",
      "numerical: -4.808219 analytic: -4.808220, relative error: 1.449431e-08\n"
     ]
    }
   ],
   "source": [
    "## Calculate the gradient of the softmax loss in the Softmax class.\n",
    "# For convenience, we'll write one function that computes the loss\n",
    "#   and gradient together, softmax.loss_and_grad(X, y)\n",
    "# You may copy and paste your loss code from softmax.loss() here, and then\n",
    "#   use the appropriate intermediate values to calculate the gradient.\n",
    "\n",
    "loss, grad = softmax.loss_and_grad(X_dev,y_dev)\n",
    "\n",
    "# Compare your gradient to a gradient check we wrote. \n",
    "# You should see relative gradient errors on the order of 1e-07 or less if you implemented the gradient correctly.\n",
    "softmax.grad_check_sparse(X_dev, y_dev, grad)"
   ]
  },
  {
   "cell_type": "markdown",
   "metadata": {},
   "source": [
    "## A vectorized version of Softmax\n",
    "\n",
    "To speed things up, we will vectorize the loss and gradient calculations.  This will be helpful for stochastic gradient descent."
   ]
  },
  {
   "cell_type": "code",
   "execution_count": 13,
   "metadata": {},
   "outputs": [],
   "source": [
    "import time"
   ]
  },
  {
   "cell_type": "code",
   "execution_count": 14,
   "metadata": {},
   "outputs": [
    {
     "name": "stdout",
     "output_type": "stream",
     "text": [
      "Normal loss / grad_norm: 2.329781476362285 / 400.2127530552219 computed in 0.07850503921508789s\n",
      "Vectorized loss / grad: 2.329781476362286 / 400.212753055222 computed in 0.024672985076904297s\n",
      "difference in loss / grad: -1.3322676295501878e-15 /3.705124159971763e-13 \n"
     ]
    }
   ],
   "source": [
    "## Implement softmax.fast_loss_and_grad which calculates the loss and gradient\n",
    "#    WITHOUT using any for loops.  \n",
    "\n",
    "# Standard loss and gradient\n",
    "tic = time.time()\n",
    "loss, grad = softmax.loss_and_grad(X_dev, y_dev)\n",
    "toc = time.time()\n",
    "print('Normal loss / grad_norm: {} / {} computed in {}s'.format(loss, np.linalg.norm(grad, 'fro'), toc - tic))\n",
    "\n",
    "tic = time.time()\n",
    "loss_vectorized, grad_vectorized = softmax.fast_loss_and_grad(X_dev, y_dev)\n",
    "toc = time.time()\n",
    "print('Vectorized loss / grad: {} / {} computed in {}s'.format(loss_vectorized, np.linalg.norm(grad_vectorized, 'fro'), toc - tic))\n",
    "\n",
    "# The losses should match but your vectorized implementation should be much faster.\n",
    "print('difference in loss / grad: {} /{} '.format(loss - loss_vectorized, np.linalg.norm(grad - grad_vectorized)))\n",
    "\n",
    "# You should notice a speedup with the same output."
   ]
  },
  {
   "cell_type": "markdown",
   "metadata": {},
   "source": [
    "## Stochastic gradient descent\n",
    "\n",
    "We now implement stochastic gradient descent.  This uses the same principles of gradient descent we discussed in class, however, it calculates the gradient by only using examples from a subset of the training set (so each gradient calculation is faster)."
   ]
  },
  {
   "cell_type": "code",
   "execution_count": 16,
   "metadata": {
    "scrolled": false
   },
   "outputs": [
    {
     "name": "stdout",
     "output_type": "stream",
     "text": [
      "iteration 0 / 1500: loss 2.3353835450891545\n",
      "iteration 100 / 1500: loss 2.0225093946317187\n",
      "iteration 200 / 1500: loss 1.982172871654982\n",
      "iteration 300 / 1500: loss 1.9356442081331486\n",
      "iteration 400 / 1500: loss 1.882893396815689\n",
      "iteration 500 / 1500: loss 1.81818696973945\n",
      "iteration 600 / 1500: loss 1.874513153185746\n",
      "iteration 700 / 1500: loss 1.8361832500173585\n",
      "iteration 800 / 1500: loss 1.8584086819212184\n",
      "iteration 900 / 1500: loss 1.9275087067564147\n",
      "iteration 1000 / 1500: loss 1.824667969507725\n",
      "iteration 1100 / 1500: loss 1.7731817984393607\n",
      "iteration 1200 / 1500: loss 1.8636308568113118\n",
      "iteration 1300 / 1500: loss 1.924074621260815\n",
      "iteration 1400 / 1500: loss 1.7846918635831293\n",
      "That took 9.59458303451538s\n"
     ]
    },
    {
     "data": {
      "image/png": "[encoded data removed]",
      "text/plain": [
       "<Figure size 640x480 with 1 Axes>"
      ]
     },
     "metadata": {},
     "output_type": "display_data"
    }
   ],
   "source": [
    "# Implement softmax.train() by filling in the code to extract a batch of data\n",
    "# and perform the gradient step.\n",
    "import time\n",
    "\n",
    "\n",
    "tic = time.time()\n",
    "loss_hist = softmax.train(X_train, y_train, learning_rate=1e-7,\n",
    "                      num_iters=1500, verbose=True)\n",
    "toc = time.time()\n",
    "print('That took {}s'.format(toc - tic))\n",
    "\n",
    "plt.plot(loss_hist)\n",
    "plt.xlabel('Iteration number')\n",
    "plt.ylabel('Loss value')\n",
    "plt.show()"
   ]
  },
  {
   "cell_type": "markdown",
   "metadata": {},
   "source": [
    "### Evaluate the performance of the trained softmax classifier on the validation data."
   ]
  },
  {
   "cell_type": "code",
   "execution_count": 17,
   "metadata": {},
   "outputs": [
    {
     "name": "stdout",
     "output_type": "stream",
     "text": [
      "training accuracy: 0.37881632653061226\n",
      "validation accuracy: 0.39\n"
     ]
    }
   ],
   "source": [
    "## Implement softmax.predict() and use it to compute the training and testing error.\n",
    "\n",
    "y_train_pred = softmax.predict(X_train)\n",
    "print('training accuracy: {}'.format(np.mean(np.equal(y_train,y_train_pred), )))\n",
    "y_val_pred = softmax.predict(X_val)\n",
    "print('validation accuracy: {}'.format(np.mean(np.equal(y_val, y_val_pred)), ))"
   ]
  },
  {
   "cell_type": "markdown",
   "metadata": {},
   "source": [
    "## Optimize the softmax classifier"
   ]
  },
  {
   "cell_type": "code",
   "execution_count": 18,
   "metadata": {},
   "outputs": [
    {
     "data": {
      "text/plain": [
       "2.220446049250313e-16"
      ]
     },
     "execution_count": 18,
     "metadata": {},
     "output_type": "execute_result"
    }
   ],
   "source": [
    "np.finfo(float).eps"
   ]
  },
  {
   "cell_type": "code",
   "execution_count": 20,
   "metadata": {
    "scrolled": false
   },
   "outputs": [
    {
     "name": "stdout",
     "output_type": "stream",
     "text": [
      "[1.00000000e+02 1.23284674e+01 1.51991108e+00 1.87381742e-01\n",
      " 2.31012970e-02 2.84803587e-03 3.51119173e-04 4.32876128e-05\n",
      " 5.33669923e-06 6.57933225e-07 8.11130831e-08 1.00000000e-08]\n",
      "iteration 0 / 1500: loss 2.376850104198011\n",
      "iteration 100 / 1500: loss 21930450.818899762\n",
      "iteration 200 / 1500: loss 18002661.772628788\n",
      "iteration 300 / 1500: loss 30139112.424423013\n",
      "iteration 400 / 1500: loss 35643494.85798577\n",
      "iteration 500 / 1500: loss 22668817.58273412\n",
      "iteration 600 / 1500: loss 41879530.25533271\n",
      "iteration 700 / 1500: loss 23980976.744694404\n",
      "iteration 800 / 1500: loss 28425963.735318568\n",
      "iteration 900 / 1500: loss 41653045.50052511\n",
      "iteration 1000 / 1500: loss 42389915.23338503\n",
      "iteration 1100 / 1500: loss 20859953.49689545\n",
      "iteration 1200 / 1500: loss 22777862.354245503\n",
      "iteration 1300 / 1500: loss 21338356.136914648\n",
      "iteration 1400 / 1500: loss 38965792.72549838\n",
      "iteration 0 / 1500: loss 2.431368148995201\n",
      "iteration 100 / 1500: loss 3911024.0104619255\n",
      "iteration 200 / 1500: loss 3483064.3656539526\n",
      "iteration 300 / 1500: loss 3829290.333834709\n",
      "iteration 400 / 1500: loss 4001500.0194998938\n",
      "iteration 500 / 1500: loss 2473336.2546379687\n",
      "iteration 600 / 1500: loss 3306166.6987504843\n",
      "iteration 700 / 1500: loss 3536105.661674255\n",
      "iteration 800 / 1500: loss 2981740.0236274083\n",
      "iteration 900 / 1500: loss 3172550.679629564\n",
      "iteration 1000 / 1500: loss 4485552.570294583\n",
      "iteration 1100 / 1500: loss 2403146.447038425\n",
      "iteration 1200 / 1500: loss 2428078.177848376\n",
      "iteration 1300 / 1500: loss 3443958.519265981\n",
      "iteration 1400 / 1500: loss 3076566.152687497\n",
      "iteration 0 / 1500: loss 2.363535760198207\n",
      "iteration 100 / 1500: loss 372500.94385254284\n",
      "iteration 200 / 1500: loss 367745.3050547632\n",
      "iteration 300 / 1500: loss 266145.98215907655\n",
      "iteration 400 / 1500: loss 386647.6504217968\n",
      "iteration 500 / 1500: loss 389080.4494084273\n",
      "iteration 600 / 1500: loss 314276.8420210867\n",
      "iteration 700 / 1500: loss 266822.1915628476\n",
      "iteration 800 / 1500: loss 424908.9585048904\n",
      "iteration 900 / 1500: loss 347603.45680869895\n",
      "iteration 1000 / 1500: loss 415194.3586194626\n",
      "iteration 1100 / 1500: loss 284708.4698438062\n",
      "iteration 1200 / 1500: loss 299317.73308567784\n",
      "iteration 1300 / 1500: loss 336885.17984189413\n",
      "iteration 1400 / 1500: loss 550591.4480033843\n",
      "iteration 0 / 1500: loss 2.3577965172090742\n",
      "iteration 100 / 1500: loss 49415.40619365274\n",
      "iteration 200 / 1500: loss 48094.422779138775\n",
      "iteration 300 / 1500: loss 62282.17075980758\n",
      "iteration 400 / 1500: loss 55219.77597413651\n",
      "iteration 500 / 1500: loss 79037.59562536365\n",
      "iteration 600 / 1500: loss 46623.959253629255\n",
      "iteration 700 / 1500: loss 55592.77071718095\n",
      "iteration 800 / 1500: loss 50293.75325395955\n",
      "iteration 900 / 1500: loss 45938.17900252937\n",
      "iteration 1000 / 1500: loss 60126.71120511817\n",
      "iteration 1100 / 1500: loss 52526.98692114738\n",
      "iteration 1200 / 1500: loss 71199.01830421321\n",
      "iteration 1300 / 1500: loss 47138.68953778818\n",
      "iteration 1400 / 1500: loss 83020.0362768881\n",
      "iteration 0 / 1500: loss 2.3623163529832842\n",
      "iteration 100 / 1500: loss 7386.785167363726\n",
      "iteration 200 / 1500: loss 6561.724714169041\n",
      "iteration 300 / 1500: loss 7762.457975035249\n",
      "iteration 400 / 1500: loss 8185.593338401697\n",
      "iteration 500 / 1500: loss 9241.982105076282\n",
      "iteration 600 / 1500: loss 6448.578867873589\n",
      "iteration 700 / 1500: loss 5490.309019938016\n",
      "iteration 800 / 1500: loss 5302.935330988444\n",
      "iteration 900 / 1500: loss 6600.164089494958\n",
      "iteration 1000 / 1500: loss 4467.617866491232\n",
      "iteration 1100 / 1500: loss 7304.733435829171\n",
      "iteration 1200 / 1500: loss 9017.892633791746\n",
      "iteration 1300 / 1500: loss 6068.499578394603\n",
      "iteration 1400 / 1500: loss 5582.4341722882955\n",
      "iteration 0 / 1500: loss 2.3303211245338518\n",
      "iteration 100 / 1500: loss 702.8104745719538\n",
      "iteration 200 / 1500: loss 1003.0492399680344\n",
      "iteration 300 / 1500: loss 700.1187822421518\n",
      "iteration 400 / 1500: loss 835.1644800620383\n",
      "iteration 500 / 1500: loss 446.30354572286905\n",
      "iteration 600 / 1500: loss 982.7065184736753\n",
      "iteration 700 / 1500: loss 879.9026852273258\n",
      "iteration 800 / 1500: loss 822.1161610487652\n",
      "iteration 900 / 1500: loss 579.046723437298\n",
      "iteration 1000 / 1500: loss 536.6872540150157\n",
      "iteration 1100 / 1500: loss 703.7149140578282\n",
      "iteration 1200 / 1500: loss 756.385763502355\n",
      "iteration 1300 / 1500: loss 648.743959299979\n",
      "iteration 1400 / 1500: loss 568.723610575774\n",
      "iteration 0 / 1500: loss 2.3819157186171527\n",
      "iteration 100 / 1500: loss 101.90366538590519\n",
      "iteration 200 / 1500: loss 118.06337378241717\n",
      "iteration 300 / 1500: loss 77.94405186044338\n",
      "iteration 400 / 1500: loss 103.57086415363067\n",
      "iteration 500 / 1500: loss 88.07708962144505\n",
      "iteration 600 / 1500: loss 87.00524664953944\n",
      "iteration 700 / 1500: loss 99.1464793458803\n",
      "iteration 800 / 1500: loss 80.50596718681074\n",
      "iteration 900 / 1500: loss 54.873063256993994\n",
      "iteration 1000 / 1500: loss 138.13711973359645\n",
      "iteration 1100 / 1500: loss 120.9919651195003\n",
      "iteration 1200 / 1500: loss 92.57520058567\n",
      "iteration 1300 / 1500: loss 133.3349194177065\n",
      "iteration 1400 / 1500: loss 81.83726018936659\n",
      "iteration 0 / 1500: loss 2.3484318532800312\n",
      "iteration 100 / 1500: loss 12.182852376071834\n",
      "iteration 200 / 1500: loss 12.087503451124547\n",
      "iteration 300 / 1500: loss 10.615130409607861\n",
      "iteration 400 / 1500: loss 13.84461942104537\n",
      "iteration 500 / 1500: loss 12.571806312922758\n",
      "iteration 600 / 1500: loss 6.984199121128224\n",
      "iteration 700 / 1500: loss 8.64487613420592\n",
      "iteration 800 / 1500: loss 14.502744343807787\n",
      "iteration 900 / 1500: loss 10.463870556146347\n",
      "iteration 1000 / 1500: loss 13.839418943398323\n",
      "iteration 1100 / 1500: loss 8.439131732079757\n",
      "iteration 1200 / 1500: loss 25.471756400015657\n",
      "iteration 1300 / 1500: loss 11.112198046857\n",
      "iteration 1400 / 1500: loss 12.513600477833668\n",
      "iteration 0 / 1500: loss 2.3884800630134353\n",
      "iteration 100 / 1500: loss 1.9244324754685642\n",
      "iteration 200 / 1500: loss 1.8307907909717744\n",
      "iteration 300 / 1500: loss 1.9401241351781335\n",
      "iteration 400 / 1500: loss 1.9390054291197396\n",
      "iteration 500 / 1500: loss 1.7642694060698612\n",
      "iteration 600 / 1500: loss 1.914377770811749\n",
      "iteration 700 / 1500: loss 2.140990947900194\n",
      "iteration 800 / 1500: loss 1.823280960376048\n",
      "iteration 900 / 1500: loss 1.7823081429383212\n",
      "iteration 1000 / 1500: loss 1.8361834433051791\n",
      "iteration 1100 / 1500: loss 1.7918254575079688\n",
      "iteration 1200 / 1500: loss 1.6720707159338417\n",
      "iteration 1300 / 1500: loss 1.67405276230121\n",
      "iteration 1400 / 1500: loss 1.8196460558278313\n",
      "iteration 0 / 1500: loss 2.3738551189467474\n",
      "iteration 100 / 1500: loss 1.8800757751651815\n",
      "iteration 200 / 1500: loss 1.9032012169003765\n",
      "iteration 300 / 1500: loss 1.7552064783210315\n",
      "iteration 400 / 1500: loss 1.8057427708923495\n",
      "iteration 500 / 1500: loss 1.703297149344325\n",
      "iteration 600 / 1500: loss 1.8106431097810396\n",
      "iteration 700 / 1500: loss 1.781909808759197\n",
      "iteration 800 / 1500: loss 1.8347189009757465\n",
      "iteration 900 / 1500: loss 1.772411828877675\n",
      "iteration 1000 / 1500: loss 1.7426963229988734\n",
      "iteration 1100 / 1500: loss 1.7939978026703687\n",
      "iteration 1200 / 1500: loss 1.7390890428035715\n",
      "iteration 1300 / 1500: loss 1.6237130713164825\n",
      "iteration 1400 / 1500: loss 1.6319798366216436\n",
      "iteration 0 / 1500: loss 2.381247622289375\n",
      "iteration 100 / 1500: loss 2.0597882886583454\n",
      "iteration 200 / 1500: loss 2.0907885620978175\n",
      "iteration 300 / 1500: loss 1.908021469908436\n",
      "iteration 400 / 1500: loss 1.891647808828347\n",
      "iteration 500 / 1500: loss 1.8553358364243135\n",
      "iteration 600 / 1500: loss 2.018174773065773\n",
      "iteration 700 / 1500: loss 1.9029340789229914\n",
      "iteration 800 / 1500: loss 1.8551084631237507\n",
      "iteration 900 / 1500: loss 1.9528490745867333\n",
      "iteration 1000 / 1500: loss 1.8609197826141204\n",
      "iteration 1100 / 1500: loss 1.8487548977230108\n",
      "iteration 1200 / 1500: loss 1.8788884653758466\n",
      "iteration 1300 / 1500: loss 1.876206304543427\n",
      "iteration 1400 / 1500: loss 1.8559469827187676\n",
      "iteration 0 / 1500: loss 2.472523652438493\n",
      "iteration 100 / 1500: loss 2.310952064158016\n",
      "iteration 200 / 1500: loss 2.261801262801085\n",
      "iteration 300 / 1500: loss 2.172240024995832\n",
      "iteration 400 / 1500: loss 2.2023515733714847\n",
      "iteration 500 / 1500: loss 2.170122715607117\n",
      "iteration 600 / 1500: loss 2.147718560680545\n",
      "iteration 700 / 1500: loss 2.145091568186487\n",
      "iteration 800 / 1500: loss 2.1314891893644052\n",
      "iteration 900 / 1500: loss 2.130507158028264\n",
      "iteration 1000 / 1500: loss 2.0524036308637954\n",
      "iteration 1100 / 1500: loss 2.054309380022291\n",
      "iteration 1200 / 1500: loss 2.1269059271129307\n",
      "iteration 1300 / 1500: loss 2.0956204583447713\n",
      "iteration 1400 / 1500: loss 2.0905403988265276\n",
      "Best learning rate: 6.579332246575682e-07\n",
      "Best validation accuracy: 0.395\n"
     ]
    }
   ],
   "source": [
    "# ============================================================== #\n",
    "# YOUR CODE HERE:\n",
    "#   Train the Softmax classifier with different learning rates and \n",
    "#     evaluate on the validation data.\n",
    "#   Report:\n",
    "#     - The best learning rate of the ones you tested.  \n",
    "#     - The best validation accuracy corresponding to the best validation error.\n",
    "#\n",
    "#   Select the SVM that achieved the best validation error and report\n",
    "#     its error rate on the test set.\n",
    "# ================================================================ #\n",
    "\n",
    "learning_rates = np.linspace(2, -8, 12)\n",
    "learning_rates = 10**learning_rates\n",
    "print(learning_rates)\n",
    "\n",
    "num_iters = 1500\n",
    "num_rates = len(learning_rates)\n",
    "loss_histories = np.zeros((num_rates, num_iters), dtype=float)\n",
    "validation_accuracies = np.zeros(num_rates, dtype=float)\n",
    "for i in range(num_rates):\n",
    "    loss_histories[i] = softmax.train(X_train, y_train, learning_rate=learning_rates[i],\n",
    "                                      num_iters=num_iters, verbose=True)\n",
    "    y_pred = softmax.predict(X_val)\n",
    "    accuracy = np.mean(y_pred == y_val)\n",
    "    validation_accuracies[i] = accuracy\n",
    "\n",
    "best_lr = learning_rates[np.argmax(validation_accuracies)]\n",
    "best_accuracy = validation_accuracies[np.argmax(validation_accuracies)]\n",
    "\n",
    "print(\"Best learning rate:\", best_lr)\n",
    "print(\"Best validation accuracy:\", best_accuracy)\n",
    "# ================================================================ #\n",
    "# END YOUR CODE HERE\n",
    "# ================================================================ #\n"
   ]
  },
  {
   "cell_type": "markdown",
   "metadata": {},
   "source": [
    "According to the output above, the best validation accuracy is when the learning rate is around 6.579332246575682e-07 out of 12 different learning rates. The best validation accuracy that was achieved for this learning rate = 0.395"
   ]
  }
 ],
 "metadata": {
  "kernelspec": {
   "display_name": "Python 3 (ipykernel)",
   "language": "python",
   "name": "python3"
  },
  "language_info": {
   "codemirror_mode": {
    "name": "ipython",
    "version": 3
   },
   "file_extension": ".py",
   "mimetype": "text/x-python",
   "name": "python",
   "nbconvert_exporter": "python",
   "pygments_lexer": "ipython3",
   "version": "3.11.6"
  }
 },
 "nbformat": 4,
 "nbformat_minor": 2
}
